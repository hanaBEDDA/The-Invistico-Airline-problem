{
 "cells": [
  {
   "cell_type": "code",
   "execution_count": 1,
   "id": "589aceef",
   "metadata": {},
   "outputs": [],
   "source": [
    "# Importing the libraries\n",
    "import numpy as np\n",
    "import matplotlib.pyplot as plt\n",
    "import pandas as pd\n",
    "\n",
    "import seaborn as sns\n",
    "sns.set()  #  Will import Seaborn functionalities\n",
    "# we don't like warnings\n",
    "# you can comment the following 2 lines if you'd like to\n",
    "import warnings\n",
    "warnings.filterwarnings('ignore')"
   ]
  },
  {
   "cell_type": "code",
   "execution_count": 2,
   "id": "aaed8894",
   "metadata": {},
   "outputs": [],
   "source": [
    "# Disply all Columns\n",
    "pd.options.display.max_columns=70"
   ]
  },
  {
   "cell_type": "code",
   "execution_count": 3,
   "id": "f0a8f8bf",
   "metadata": {},
   "outputs": [
    {
     "data": {
      "text/html": [
       "<div>\n",
       "<style scoped>\n",
       "    .dataframe tbody tr th:only-of-type {\n",
       "        vertical-align: middle;\n",
       "    }\n",
       "\n",
       "    .dataframe tbody tr th {\n",
       "        vertical-align: top;\n",
       "    }\n",
       "\n",
       "    .dataframe thead th {\n",
       "        text-align: right;\n",
       "    }\n",
       "</style>\n",
       "<table border=\"1\" class=\"dataframe\">\n",
       "  <thead>\n",
       "    <tr style=\"text-align: right;\">\n",
       "      <th></th>\n",
       "      <th>Unnamed: 0</th>\n",
       "      <th>satisfaction</th>\n",
       "      <th>age</th>\n",
       "      <th>seat_comfort</th>\n",
       "      <th>inflight_entertainment</th>\n",
       "      <th>on_board_service</th>\n",
       "      <th>leg_room_service</th>\n",
       "      <th>baggage_handling</th>\n",
       "      <th>checkin_service</th>\n",
       "      <th>cleanliness</th>\n",
       "      <th>online_boarding</th>\n",
       "      <th>gender_male</th>\n",
       "      <th>customer_type_disloyal_customer</th>\n",
       "      <th>type_of_travel_personal_travel</th>\n",
       "      <th>class_eco</th>\n",
       "      <th>class_eco_plus</th>\n",
       "    </tr>\n",
       "  </thead>\n",
       "  <tbody>\n",
       "    <tr>\n",
       "      <th>0</th>\n",
       "      <td>0</td>\n",
       "      <td>1</td>\n",
       "      <td>65</td>\n",
       "      <td>0</td>\n",
       "      <td>4</td>\n",
       "      <td>3</td>\n",
       "      <td>0</td>\n",
       "      <td>3</td>\n",
       "      <td>5</td>\n",
       "      <td>3</td>\n",
       "      <td>2</td>\n",
       "      <td>0</td>\n",
       "      <td>0</td>\n",
       "      <td>1</td>\n",
       "      <td>1</td>\n",
       "      <td>0</td>\n",
       "    </tr>\n",
       "    <tr>\n",
       "      <th>1</th>\n",
       "      <td>1</td>\n",
       "      <td>1</td>\n",
       "      <td>47</td>\n",
       "      <td>0</td>\n",
       "      <td>2</td>\n",
       "      <td>4</td>\n",
       "      <td>4</td>\n",
       "      <td>4</td>\n",
       "      <td>2</td>\n",
       "      <td>3</td>\n",
       "      <td>2</td>\n",
       "      <td>1</td>\n",
       "      <td>0</td>\n",
       "      <td>1</td>\n",
       "      <td>0</td>\n",
       "      <td>0</td>\n",
       "    </tr>\n",
       "    <tr>\n",
       "      <th>2</th>\n",
       "      <td>2</td>\n",
       "      <td>1</td>\n",
       "      <td>15</td>\n",
       "      <td>0</td>\n",
       "      <td>0</td>\n",
       "      <td>3</td>\n",
       "      <td>3</td>\n",
       "      <td>4</td>\n",
       "      <td>4</td>\n",
       "      <td>4</td>\n",
       "      <td>2</td>\n",
       "      <td>0</td>\n",
       "      <td>0</td>\n",
       "      <td>1</td>\n",
       "      <td>1</td>\n",
       "      <td>0</td>\n",
       "    </tr>\n",
       "    <tr>\n",
       "      <th>3</th>\n",
       "      <td>3</td>\n",
       "      <td>1</td>\n",
       "      <td>60</td>\n",
       "      <td>0</td>\n",
       "      <td>4</td>\n",
       "      <td>1</td>\n",
       "      <td>0</td>\n",
       "      <td>1</td>\n",
       "      <td>4</td>\n",
       "      <td>1</td>\n",
       "      <td>3</td>\n",
       "      <td>0</td>\n",
       "      <td>0</td>\n",
       "      <td>1</td>\n",
       "      <td>1</td>\n",
       "      <td>0</td>\n",
       "    </tr>\n",
       "    <tr>\n",
       "      <th>4</th>\n",
       "      <td>4</td>\n",
       "      <td>1</td>\n",
       "      <td>70</td>\n",
       "      <td>0</td>\n",
       "      <td>3</td>\n",
       "      <td>2</td>\n",
       "      <td>0</td>\n",
       "      <td>2</td>\n",
       "      <td>4</td>\n",
       "      <td>2</td>\n",
       "      <td>5</td>\n",
       "      <td>0</td>\n",
       "      <td>0</td>\n",
       "      <td>1</td>\n",
       "      <td>1</td>\n",
       "      <td>0</td>\n",
       "    </tr>\n",
       "    <tr>\n",
       "      <th>...</th>\n",
       "      <td>...</td>\n",
       "      <td>...</td>\n",
       "      <td>...</td>\n",
       "      <td>...</td>\n",
       "      <td>...</td>\n",
       "      <td>...</td>\n",
       "      <td>...</td>\n",
       "      <td>...</td>\n",
       "      <td>...</td>\n",
       "      <td>...</td>\n",
       "      <td>...</td>\n",
       "      <td>...</td>\n",
       "      <td>...</td>\n",
       "      <td>...</td>\n",
       "      <td>...</td>\n",
       "      <td>...</td>\n",
       "    </tr>\n",
       "    <tr>\n",
       "      <th>129875</th>\n",
       "      <td>129875</td>\n",
       "      <td>1</td>\n",
       "      <td>29</td>\n",
       "      <td>5</td>\n",
       "      <td>5</td>\n",
       "      <td>3</td>\n",
       "      <td>3</td>\n",
       "      <td>4</td>\n",
       "      <td>4</td>\n",
       "      <td>4</td>\n",
       "      <td>2</td>\n",
       "      <td>0</td>\n",
       "      <td>1</td>\n",
       "      <td>1</td>\n",
       "      <td>1</td>\n",
       "      <td>0</td>\n",
       "    </tr>\n",
       "    <tr>\n",
       "      <th>129876</th>\n",
       "      <td>129876</td>\n",
       "      <td>0</td>\n",
       "      <td>63</td>\n",
       "      <td>2</td>\n",
       "      <td>1</td>\n",
       "      <td>2</td>\n",
       "      <td>3</td>\n",
       "      <td>3</td>\n",
       "      <td>1</td>\n",
       "      <td>2</td>\n",
       "      <td>1</td>\n",
       "      <td>1</td>\n",
       "      <td>1</td>\n",
       "      <td>1</td>\n",
       "      <td>0</td>\n",
       "      <td>0</td>\n",
       "    </tr>\n",
       "    <tr>\n",
       "      <th>129877</th>\n",
       "      <td>129877</td>\n",
       "      <td>0</td>\n",
       "      <td>69</td>\n",
       "      <td>3</td>\n",
       "      <td>2</td>\n",
       "      <td>4</td>\n",
       "      <td>3</td>\n",
       "      <td>4</td>\n",
       "      <td>2</td>\n",
       "      <td>3</td>\n",
       "      <td>2</td>\n",
       "      <td>1</td>\n",
       "      <td>1</td>\n",
       "      <td>1</td>\n",
       "      <td>1</td>\n",
       "      <td>0</td>\n",
       "    </tr>\n",
       "    <tr>\n",
       "      <th>129878</th>\n",
       "      <td>129878</td>\n",
       "      <td>0</td>\n",
       "      <td>66</td>\n",
       "      <td>3</td>\n",
       "      <td>2</td>\n",
       "      <td>3</td>\n",
       "      <td>2</td>\n",
       "      <td>3</td>\n",
       "      <td>2</td>\n",
       "      <td>1</td>\n",
       "      <td>2</td>\n",
       "      <td>1</td>\n",
       "      <td>1</td>\n",
       "      <td>1</td>\n",
       "      <td>1</td>\n",
       "      <td>0</td>\n",
       "    </tr>\n",
       "    <tr>\n",
       "      <th>129879</th>\n",
       "      <td>129879</td>\n",
       "      <td>0</td>\n",
       "      <td>38</td>\n",
       "      <td>3</td>\n",
       "      <td>3</td>\n",
       "      <td>5</td>\n",
       "      <td>5</td>\n",
       "      <td>5</td>\n",
       "      <td>3</td>\n",
       "      <td>3</td>\n",
       "      <td>3</td>\n",
       "      <td>0</td>\n",
       "      <td>1</td>\n",
       "      <td>1</td>\n",
       "      <td>1</td>\n",
       "      <td>0</td>\n",
       "    </tr>\n",
       "  </tbody>\n",
       "</table>\n",
       "<p>129880 rows × 16 columns</p>\n",
       "</div>"
      ],
      "text/plain": [
       "        Unnamed: 0  satisfaction  age  seat_comfort  inflight_entertainment  \\\n",
       "0                0             1   65             0                       4   \n",
       "1                1             1   47             0                       2   \n",
       "2                2             1   15             0                       0   \n",
       "3                3             1   60             0                       4   \n",
       "4                4             1   70             0                       3   \n",
       "...            ...           ...  ...           ...                     ...   \n",
       "129875      129875             1   29             5                       5   \n",
       "129876      129876             0   63             2                       1   \n",
       "129877      129877             0   69             3                       2   \n",
       "129878      129878             0   66             3                       2   \n",
       "129879      129879             0   38             3                       3   \n",
       "\n",
       "        on_board_service  leg_room_service  baggage_handling  checkin_service  \\\n",
       "0                      3                 0                 3                5   \n",
       "1                      4                 4                 4                2   \n",
       "2                      3                 3                 4                4   \n",
       "3                      1                 0                 1                4   \n",
       "4                      2                 0                 2                4   \n",
       "...                  ...               ...               ...              ...   \n",
       "129875                 3                 3                 4                4   \n",
       "129876                 2                 3                 3                1   \n",
       "129877                 4                 3                 4                2   \n",
       "129878                 3                 2                 3                2   \n",
       "129879                 5                 5                 5                3   \n",
       "\n",
       "        cleanliness  online_boarding  gender_male  \\\n",
       "0                 3                2            0   \n",
       "1                 3                2            1   \n",
       "2                 4                2            0   \n",
       "3                 1                3            0   \n",
       "4                 2                5            0   \n",
       "...             ...              ...          ...   \n",
       "129875            4                2            0   \n",
       "129876            2                1            1   \n",
       "129877            3                2            1   \n",
       "129878            1                2            1   \n",
       "129879            3                3            0   \n",
       "\n",
       "        customer_type_disloyal_customer  type_of_travel_personal_travel  \\\n",
       "0                                     0                               1   \n",
       "1                                     0                               1   \n",
       "2                                     0                               1   \n",
       "3                                     0                               1   \n",
       "4                                     0                               1   \n",
       "...                                 ...                             ...   \n",
       "129875                                1                               1   \n",
       "129876                                1                               1   \n",
       "129877                                1                               1   \n",
       "129878                                1                               1   \n",
       "129879                                1                               1   \n",
       "\n",
       "        class_eco  class_eco_plus  \n",
       "0               1               0  \n",
       "1               0               0  \n",
       "2               1               0  \n",
       "3               1               0  \n",
       "4               1               0  \n",
       "...           ...             ...  \n",
       "129875          1               0  \n",
       "129876          0               0  \n",
       "129877          1               0  \n",
       "129878          1               0  \n",
       "129879          1               0  \n",
       "\n",
       "[129880 rows x 16 columns]"
      ]
     },
     "execution_count": 3,
     "metadata": {},
     "output_type": "execute_result"
    }
   ],
   "source": [
    "Invistico_Airline = pd.read_csv('Invistico_Airline_v3_claimsV4.csv')#.drop('Unnamed: 0', axis = 1)\n",
    "Invistico_Airline"
   ]
  },
  {
   "cell_type": "code",
   "execution_count": 4,
   "id": "612deddc",
   "metadata": {},
   "outputs": [
    {
     "data": {
      "text/html": [
       "<div>\n",
       "<style scoped>\n",
       "    .dataframe tbody tr th:only-of-type {\n",
       "        vertical-align: middle;\n",
       "    }\n",
       "\n",
       "    .dataframe tbody tr th {\n",
       "        vertical-align: top;\n",
       "    }\n",
       "\n",
       "    .dataframe thead th {\n",
       "        text-align: right;\n",
       "    }\n",
       "</style>\n",
       "<table border=\"1\" class=\"dataframe\">\n",
       "  <thead>\n",
       "    <tr style=\"text-align: right;\">\n",
       "      <th></th>\n",
       "      <th>satisfaction</th>\n",
       "      <th>age</th>\n",
       "      <th>seat_comfort</th>\n",
       "      <th>inflight_entertainment</th>\n",
       "      <th>on_board_service</th>\n",
       "      <th>leg_room_service</th>\n",
       "      <th>baggage_handling</th>\n",
       "      <th>checkin_service</th>\n",
       "      <th>cleanliness</th>\n",
       "      <th>online_boarding</th>\n",
       "      <th>gender_male</th>\n",
       "      <th>customer_type_disloyal_customer</th>\n",
       "      <th>type_of_travel_personal_travel</th>\n",
       "      <th>class_eco</th>\n",
       "      <th>class_eco_plus</th>\n",
       "    </tr>\n",
       "  </thead>\n",
       "  <tbody>\n",
       "    <tr>\n",
       "      <th>0</th>\n",
       "      <td>1</td>\n",
       "      <td>65</td>\n",
       "      <td>0</td>\n",
       "      <td>4</td>\n",
       "      <td>3</td>\n",
       "      <td>0</td>\n",
       "      <td>3</td>\n",
       "      <td>5</td>\n",
       "      <td>3</td>\n",
       "      <td>2</td>\n",
       "      <td>0</td>\n",
       "      <td>0</td>\n",
       "      <td>1</td>\n",
       "      <td>1</td>\n",
       "      <td>0</td>\n",
       "    </tr>\n",
       "    <tr>\n",
       "      <th>1</th>\n",
       "      <td>1</td>\n",
       "      <td>47</td>\n",
       "      <td>0</td>\n",
       "      <td>2</td>\n",
       "      <td>4</td>\n",
       "      <td>4</td>\n",
       "      <td>4</td>\n",
       "      <td>2</td>\n",
       "      <td>3</td>\n",
       "      <td>2</td>\n",
       "      <td>1</td>\n",
       "      <td>0</td>\n",
       "      <td>1</td>\n",
       "      <td>0</td>\n",
       "      <td>0</td>\n",
       "    </tr>\n",
       "    <tr>\n",
       "      <th>2</th>\n",
       "      <td>1</td>\n",
       "      <td>15</td>\n",
       "      <td>0</td>\n",
       "      <td>0</td>\n",
       "      <td>3</td>\n",
       "      <td>3</td>\n",
       "      <td>4</td>\n",
       "      <td>4</td>\n",
       "      <td>4</td>\n",
       "      <td>2</td>\n",
       "      <td>0</td>\n",
       "      <td>0</td>\n",
       "      <td>1</td>\n",
       "      <td>1</td>\n",
       "      <td>0</td>\n",
       "    </tr>\n",
       "    <tr>\n",
       "      <th>3</th>\n",
       "      <td>1</td>\n",
       "      <td>60</td>\n",
       "      <td>0</td>\n",
       "      <td>4</td>\n",
       "      <td>1</td>\n",
       "      <td>0</td>\n",
       "      <td>1</td>\n",
       "      <td>4</td>\n",
       "      <td>1</td>\n",
       "      <td>3</td>\n",
       "      <td>0</td>\n",
       "      <td>0</td>\n",
       "      <td>1</td>\n",
       "      <td>1</td>\n",
       "      <td>0</td>\n",
       "    </tr>\n",
       "    <tr>\n",
       "      <th>4</th>\n",
       "      <td>1</td>\n",
       "      <td>70</td>\n",
       "      <td>0</td>\n",
       "      <td>3</td>\n",
       "      <td>2</td>\n",
       "      <td>0</td>\n",
       "      <td>2</td>\n",
       "      <td>4</td>\n",
       "      <td>2</td>\n",
       "      <td>5</td>\n",
       "      <td>0</td>\n",
       "      <td>0</td>\n",
       "      <td>1</td>\n",
       "      <td>1</td>\n",
       "      <td>0</td>\n",
       "    </tr>\n",
       "    <tr>\n",
       "      <th>...</th>\n",
       "      <td>...</td>\n",
       "      <td>...</td>\n",
       "      <td>...</td>\n",
       "      <td>...</td>\n",
       "      <td>...</td>\n",
       "      <td>...</td>\n",
       "      <td>...</td>\n",
       "      <td>...</td>\n",
       "      <td>...</td>\n",
       "      <td>...</td>\n",
       "      <td>...</td>\n",
       "      <td>...</td>\n",
       "      <td>...</td>\n",
       "      <td>...</td>\n",
       "      <td>...</td>\n",
       "    </tr>\n",
       "    <tr>\n",
       "      <th>129875</th>\n",
       "      <td>1</td>\n",
       "      <td>29</td>\n",
       "      <td>5</td>\n",
       "      <td>5</td>\n",
       "      <td>3</td>\n",
       "      <td>3</td>\n",
       "      <td>4</td>\n",
       "      <td>4</td>\n",
       "      <td>4</td>\n",
       "      <td>2</td>\n",
       "      <td>0</td>\n",
       "      <td>1</td>\n",
       "      <td>1</td>\n",
       "      <td>1</td>\n",
       "      <td>0</td>\n",
       "    </tr>\n",
       "    <tr>\n",
       "      <th>129876</th>\n",
       "      <td>0</td>\n",
       "      <td>63</td>\n",
       "      <td>2</td>\n",
       "      <td>1</td>\n",
       "      <td>2</td>\n",
       "      <td>3</td>\n",
       "      <td>3</td>\n",
       "      <td>1</td>\n",
       "      <td>2</td>\n",
       "      <td>1</td>\n",
       "      <td>1</td>\n",
       "      <td>1</td>\n",
       "      <td>1</td>\n",
       "      <td>0</td>\n",
       "      <td>0</td>\n",
       "    </tr>\n",
       "    <tr>\n",
       "      <th>129877</th>\n",
       "      <td>0</td>\n",
       "      <td>69</td>\n",
       "      <td>3</td>\n",
       "      <td>2</td>\n",
       "      <td>4</td>\n",
       "      <td>3</td>\n",
       "      <td>4</td>\n",
       "      <td>2</td>\n",
       "      <td>3</td>\n",
       "      <td>2</td>\n",
       "      <td>1</td>\n",
       "      <td>1</td>\n",
       "      <td>1</td>\n",
       "      <td>1</td>\n",
       "      <td>0</td>\n",
       "    </tr>\n",
       "    <tr>\n",
       "      <th>129878</th>\n",
       "      <td>0</td>\n",
       "      <td>66</td>\n",
       "      <td>3</td>\n",
       "      <td>2</td>\n",
       "      <td>3</td>\n",
       "      <td>2</td>\n",
       "      <td>3</td>\n",
       "      <td>2</td>\n",
       "      <td>1</td>\n",
       "      <td>2</td>\n",
       "      <td>1</td>\n",
       "      <td>1</td>\n",
       "      <td>1</td>\n",
       "      <td>1</td>\n",
       "      <td>0</td>\n",
       "    </tr>\n",
       "    <tr>\n",
       "      <th>129879</th>\n",
       "      <td>0</td>\n",
       "      <td>38</td>\n",
       "      <td>3</td>\n",
       "      <td>3</td>\n",
       "      <td>5</td>\n",
       "      <td>5</td>\n",
       "      <td>5</td>\n",
       "      <td>3</td>\n",
       "      <td>3</td>\n",
       "      <td>3</td>\n",
       "      <td>0</td>\n",
       "      <td>1</td>\n",
       "      <td>1</td>\n",
       "      <td>1</td>\n",
       "      <td>0</td>\n",
       "    </tr>\n",
       "  </tbody>\n",
       "</table>\n",
       "<p>129880 rows × 15 columns</p>\n",
       "</div>"
      ],
      "text/plain": [
       "        satisfaction  age  seat_comfort  inflight_entertainment  \\\n",
       "0                  1   65             0                       4   \n",
       "1                  1   47             0                       2   \n",
       "2                  1   15             0                       0   \n",
       "3                  1   60             0                       4   \n",
       "4                  1   70             0                       3   \n",
       "...              ...  ...           ...                     ...   \n",
       "129875             1   29             5                       5   \n",
       "129876             0   63             2                       1   \n",
       "129877             0   69             3                       2   \n",
       "129878             0   66             3                       2   \n",
       "129879             0   38             3                       3   \n",
       "\n",
       "        on_board_service  leg_room_service  baggage_handling  checkin_service  \\\n",
       "0                      3                 0                 3                5   \n",
       "1                      4                 4                 4                2   \n",
       "2                      3                 3                 4                4   \n",
       "3                      1                 0                 1                4   \n",
       "4                      2                 0                 2                4   \n",
       "...                  ...               ...               ...              ...   \n",
       "129875                 3                 3                 4                4   \n",
       "129876                 2                 3                 3                1   \n",
       "129877                 4                 3                 4                2   \n",
       "129878                 3                 2                 3                2   \n",
       "129879                 5                 5                 5                3   \n",
       "\n",
       "        cleanliness  online_boarding  gender_male  \\\n",
       "0                 3                2            0   \n",
       "1                 3                2            1   \n",
       "2                 4                2            0   \n",
       "3                 1                3            0   \n",
       "4                 2                5            0   \n",
       "...             ...              ...          ...   \n",
       "129875            4                2            0   \n",
       "129876            2                1            1   \n",
       "129877            3                2            1   \n",
       "129878            1                2            1   \n",
       "129879            3                3            0   \n",
       "\n",
       "        customer_type_disloyal_customer  type_of_travel_personal_travel  \\\n",
       "0                                     0                               1   \n",
       "1                                     0                               1   \n",
       "2                                     0                               1   \n",
       "3                                     0                               1   \n",
       "4                                     0                               1   \n",
       "...                                 ...                             ...   \n",
       "129875                                1                               1   \n",
       "129876                                1                               1   \n",
       "129877                                1                               1   \n",
       "129878                                1                               1   \n",
       "129879                                1                               1   \n",
       "\n",
       "        class_eco  class_eco_plus  \n",
       "0               1               0  \n",
       "1               0               0  \n",
       "2               1               0  \n",
       "3               1               0  \n",
       "4               1               0  \n",
       "...           ...             ...  \n",
       "129875          1               0  \n",
       "129876          0               0  \n",
       "129877          1               0  \n",
       "129878          1               0  \n",
       "129879          1               0  \n",
       "\n",
       "[129880 rows x 15 columns]"
      ]
     },
     "execution_count": 4,
     "metadata": {},
     "output_type": "execute_result"
    }
   ],
   "source": [
    "Invistico_Airline = Invistico_Airline.drop('Unnamed: 0', axis = 1)\n",
    "Invistico_Airline"
   ]
  },
  {
   "cell_type": "code",
   "execution_count": 5,
   "id": "134e8729",
   "metadata": {},
   "outputs": [
    {
     "data": {
      "text/plain": [
       "1    0.547328\n",
       "0    0.452672\n",
       "Name: satisfaction, dtype: float64"
      ]
     },
     "execution_count": 5,
     "metadata": {},
     "output_type": "execute_result"
    }
   ],
   "source": [
    "Invistico_Airline['satisfaction'].value_counts(normalize=True)"
   ]
  },
  {
   "cell_type": "code",
   "execution_count": 8,
   "id": "6f94cfd3",
   "metadata": {},
   "outputs": [],
   "source": [
    "X = Invistico_Airline.drop('satisfaction', axis = 1) # axis = 1 (look in columns) OR axis = 0 (look in rows)\n",
    "    \n",
    "y = Invistico_Airline.satisfaction"
   ]
  },
  {
   "cell_type": "markdown",
   "id": "a10faf66",
   "metadata": {},
   "source": [
    "###  Data split & Scaling Data Preprocessing"
   ]
  },
  {
   "cell_type": "code",
   "execution_count": 9,
   "id": "63962658",
   "metadata": {},
   "outputs": [],
   "source": [
    "# Splitting the dataset into the Training set and Test set\n",
    "from sklearn.model_selection import train_test_split\n",
    "#from sklearn.cross_validation import train_test_split\n",
    "training_features, test_features, training_target, test_target, = train_test_split(X,y, test_size = .2, random_state = 42)\n"
   ]
  },
  {
   "cell_type": "code",
   "execution_count": 12,
   "id": "9934351f",
   "metadata": {},
   "outputs": [
    {
     "name": "stdout",
     "output_type": "stream",
     "text": [
      "(103904, 14)\n",
      "(25976, 14)\n",
      "(103904,)\n",
      "(25976,)\n"
     ]
    }
   ],
   "source": [
    "print(training_features.shape)\n",
    "print(test_features.shape)\n",
    "print(training_target.shape)\n",
    "print(test_target.shape)"
   ]
  },
  {
   "cell_type": "code",
   "execution_count": 10,
   "id": "ea05c8b6",
   "metadata": {},
   "outputs": [
    {
     "data": {
      "text/html": [
       "<style>#sk-container-id-1 {color: black;background-color: white;}#sk-container-id-1 pre{padding: 0;}#sk-container-id-1 div.sk-toggleable {background-color: white;}#sk-container-id-1 label.sk-toggleable__label {cursor: pointer;display: block;width: 100%;margin-bottom: 0;padding: 0.3em;box-sizing: border-box;text-align: center;}#sk-container-id-1 label.sk-toggleable__label-arrow:before {content: \"▸\";float: left;margin-right: 0.25em;color: #696969;}#sk-container-id-1 label.sk-toggleable__label-arrow:hover:before {color: black;}#sk-container-id-1 div.sk-estimator:hover label.sk-toggleable__label-arrow:before {color: black;}#sk-container-id-1 div.sk-toggleable__content {max-height: 0;max-width: 0;overflow: hidden;text-align: left;background-color: #f0f8ff;}#sk-container-id-1 div.sk-toggleable__content pre {margin: 0.2em;color: black;border-radius: 0.25em;background-color: #f0f8ff;}#sk-container-id-1 input.sk-toggleable__control:checked~div.sk-toggleable__content {max-height: 200px;max-width: 100%;overflow: auto;}#sk-container-id-1 input.sk-toggleable__control:checked~label.sk-toggleable__label-arrow:before {content: \"▾\";}#sk-container-id-1 div.sk-estimator input.sk-toggleable__control:checked~label.sk-toggleable__label {background-color: #d4ebff;}#sk-container-id-1 div.sk-label input.sk-toggleable__control:checked~label.sk-toggleable__label {background-color: #d4ebff;}#sk-container-id-1 input.sk-hidden--visually {border: 0;clip: rect(1px 1px 1px 1px);clip: rect(1px, 1px, 1px, 1px);height: 1px;margin: -1px;overflow: hidden;padding: 0;position: absolute;width: 1px;}#sk-container-id-1 div.sk-estimator {font-family: monospace;background-color: #f0f8ff;border: 1px dotted black;border-radius: 0.25em;box-sizing: border-box;margin-bottom: 0.5em;}#sk-container-id-1 div.sk-estimator:hover {background-color: #d4ebff;}#sk-container-id-1 div.sk-parallel-item::after {content: \"\";width: 100%;border-bottom: 1px solid gray;flex-grow: 1;}#sk-container-id-1 div.sk-label:hover label.sk-toggleable__label {background-color: #d4ebff;}#sk-container-id-1 div.sk-serial::before {content: \"\";position: absolute;border-left: 1px solid gray;box-sizing: border-box;top: 0;bottom: 0;left: 50%;z-index: 0;}#sk-container-id-1 div.sk-serial {display: flex;flex-direction: column;align-items: center;background-color: white;padding-right: 0.2em;padding-left: 0.2em;position: relative;}#sk-container-id-1 div.sk-item {position: relative;z-index: 1;}#sk-container-id-1 div.sk-parallel {display: flex;align-items: stretch;justify-content: center;background-color: white;position: relative;}#sk-container-id-1 div.sk-item::before, #sk-container-id-1 div.sk-parallel-item::before {content: \"\";position: absolute;border-left: 1px solid gray;box-sizing: border-box;top: 0;bottom: 0;left: 50%;z-index: -1;}#sk-container-id-1 div.sk-parallel-item {display: flex;flex-direction: column;z-index: 1;position: relative;background-color: white;}#sk-container-id-1 div.sk-parallel-item:first-child::after {align-self: flex-end;width: 50%;}#sk-container-id-1 div.sk-parallel-item:last-child::after {align-self: flex-start;width: 50%;}#sk-container-id-1 div.sk-parallel-item:only-child::after {width: 0;}#sk-container-id-1 div.sk-dashed-wrapped {border: 1px dashed gray;margin: 0 0.4em 0.5em 0.4em;box-sizing: border-box;padding-bottom: 0.4em;background-color: white;}#sk-container-id-1 div.sk-label label {font-family: monospace;font-weight: bold;display: inline-block;line-height: 1.2em;}#sk-container-id-1 div.sk-label-container {text-align: center;}#sk-container-id-1 div.sk-container {/* jupyter's `normalize.less` sets `[hidden] { display: none; }` but bootstrap.min.css set `[hidden] { display: none !important; }` so we also need the `!important` here to be able to override the default hidden behavior on the sphinx rendered scikit-learn.org. See: https://github.com/scikit-learn/scikit-learn/issues/21755 */display: inline-block !important;position: relative;}#sk-container-id-1 div.sk-text-repr-fallback {display: none;}</style><div id=\"sk-container-id-1\" class=\"sk-top-container\"><div class=\"sk-text-repr-fallback\"><pre>DummyClassifier(strategy=&#x27;most_frequent&#x27;)</pre><b>In a Jupyter environment, please rerun this cell to show the HTML representation or trust the notebook. <br />On GitHub, the HTML representation is unable to render, please try loading this page with nbviewer.org.</b></div><div class=\"sk-container\" hidden><div class=\"sk-item\"><div class=\"sk-estimator sk-toggleable\"><input class=\"sk-toggleable__control sk-hidden--visually\" id=\"sk-estimator-id-1\" type=\"checkbox\" checked><label for=\"sk-estimator-id-1\" class=\"sk-toggleable__label sk-toggleable__label-arrow\">DummyClassifier</label><div class=\"sk-toggleable__content\"><pre>DummyClassifier(strategy=&#x27;most_frequent&#x27;)</pre></div></div></div></div></div>"
      ],
      "text/plain": [
       "DummyClassifier(strategy='most_frequent')"
      ]
     },
     "execution_count": 10,
     "metadata": {},
     "output_type": "execute_result"
    }
   ],
   "source": [
    "from sklearn.dummy import DummyClassifier\n",
    "\n",
    "dummy_baseline = DummyClassifier(strategy = 'most_frequent')\n",
    "\n",
    "dummy_baseline.fit(test_features, test_target)"
   ]
  },
  {
   "cell_type": "code",
   "execution_count": 14,
   "id": "67b598cc",
   "metadata": {},
   "outputs": [
    {
     "name": "stdout",
     "output_type": "stream",
     "text": [
      "The fraction of correct classification is :0.551\n"
     ]
    }
   ],
   "source": [
    "score = dummy_baseline.score(test_features, test_target)\n",
    "print(\"The fraction of correct classification is :{:5.3f}\".format(score))"
   ]
  },
  {
   "cell_type": "code",
   "execution_count": 18,
   "id": "8428dede",
   "metadata": {},
   "outputs": [
    {
     "name": "stdout",
     "output_type": "stream",
     "text": [
      "[0.07981904 0.1619171  0.25459424 0.06841637 0.06330329 0.04630534\n",
      " 0.04378062 0.04128446 0.06123369 0.04790602 0.05175042 0.04019599\n",
      " 0.03235986 0.00713356]\n"
     ]
    },
    {
     "data": {
      "image/png": "[encoded data removed]",
      "text/plain": [
       "<Figure size 2000x1000 with 1 Axes>"
      ]
     },
     "metadata": {},
     "output_type": "display_data"
    },
    {
     "data": {
      "text/html": [
       "<div>\n",
       "<style scoped>\n",
       "    .dataframe tbody tr th:only-of-type {\n",
       "        vertical-align: middle;\n",
       "    }\n",
       "\n",
       "    .dataframe tbody tr th {\n",
       "        vertical-align: top;\n",
       "    }\n",
       "\n",
       "    .dataframe thead th {\n",
       "        text-align: right;\n",
       "    }\n",
       "</style>\n",
       "<table border=\"1\" class=\"dataframe\">\n",
       "  <thead>\n",
       "    <tr style=\"text-align: right;\">\n",
       "      <th></th>\n",
       "      <th>Importance Coef</th>\n",
       "      <th>Features</th>\n",
       "    </tr>\n",
       "  </thead>\n",
       "  <tbody>\n",
       "    <tr>\n",
       "      <th>2</th>\n",
       "      <td>0.254594</td>\n",
       "      <td>inflight_entertainment</td>\n",
       "    </tr>\n",
       "    <tr>\n",
       "      <th>1</th>\n",
       "      <td>0.161917</td>\n",
       "      <td>seat_comfort</td>\n",
       "    </tr>\n",
       "    <tr>\n",
       "      <th>0</th>\n",
       "      <td>0.079819</td>\n",
       "      <td>age</td>\n",
       "    </tr>\n",
       "    <tr>\n",
       "      <th>3</th>\n",
       "      <td>0.068416</td>\n",
       "      <td>on_board_service</td>\n",
       "    </tr>\n",
       "    <tr>\n",
       "      <th>4</th>\n",
       "      <td>0.063303</td>\n",
       "      <td>leg_room_service</td>\n",
       "    </tr>\n",
       "    <tr>\n",
       "      <th>8</th>\n",
       "      <td>0.061234</td>\n",
       "      <td>online_boarding</td>\n",
       "    </tr>\n",
       "    <tr>\n",
       "      <th>10</th>\n",
       "      <td>0.051750</td>\n",
       "      <td>customer_type_disloyal_customer</td>\n",
       "    </tr>\n",
       "    <tr>\n",
       "      <th>9</th>\n",
       "      <td>0.047906</td>\n",
       "      <td>gender_male</td>\n",
       "    </tr>\n",
       "    <tr>\n",
       "      <th>5</th>\n",
       "      <td>0.046305</td>\n",
       "      <td>baggage_handling</td>\n",
       "    </tr>\n",
       "    <tr>\n",
       "      <th>6</th>\n",
       "      <td>0.043781</td>\n",
       "      <td>checkin_service</td>\n",
       "    </tr>\n",
       "    <tr>\n",
       "      <th>7</th>\n",
       "      <td>0.041284</td>\n",
       "      <td>cleanliness</td>\n",
       "    </tr>\n",
       "    <tr>\n",
       "      <th>11</th>\n",
       "      <td>0.040196</td>\n",
       "      <td>type_of_travel_personal_travel</td>\n",
       "    </tr>\n",
       "    <tr>\n",
       "      <th>12</th>\n",
       "      <td>0.032360</td>\n",
       "      <td>class_eco</td>\n",
       "    </tr>\n",
       "    <tr>\n",
       "      <th>13</th>\n",
       "      <td>0.007134</td>\n",
       "      <td>class_eco_plus</td>\n",
       "    </tr>\n",
       "  </tbody>\n",
       "</table>\n",
       "</div>"
      ],
      "text/plain": [
       "    Importance Coef                         Features\n",
       "2          0.254594           inflight_entertainment\n",
       "1          0.161917                     seat_comfort\n",
       "0          0.079819                              age\n",
       "3          0.068416                 on_board_service\n",
       "4          0.063303                 leg_room_service\n",
       "8          0.061234                  online_boarding\n",
       "10         0.051750  customer_type_disloyal_customer\n",
       "9          0.047906                      gender_male\n",
       "5          0.046305                 baggage_handling\n",
       "6          0.043781                  checkin_service\n",
       "7          0.041284                      cleanliness\n",
       "11         0.040196   type_of_travel_personal_travel\n",
       "12         0.032360                        class_eco\n",
       "13         0.007134                   class_eco_plus"
      ]
     },
     "execution_count": 18,
     "metadata": {},
     "output_type": "execute_result"
    }
   ],
   "source": [
    "from sklearn.ensemble import RandomForestClassifier\n",
    "from matplotlib import pyplot\n",
    "\n",
    "plt.figure(figsize=(20,10))\n",
    "\n",
    "model = RandomForestClassifier()\n",
    "model.fit(training_features, training_target)\n",
    "\n",
    "print(model.feature_importances_)\n",
    "\n",
    "pyplot.bar(range(len(model.feature_importances_)), model.feature_importances_)\n",
    "pyplot.show()\n",
    "\n",
    "feature_importances = pd.DataFrame({\"Importance Coef\" :model.feature_importances_, 'Features': training_features.columns})\n",
    "feature_importances.nlargest(100, \"Importance Coef\")"
   ]
  },
  {
   "cell_type": "code",
   "execution_count": 20,
   "id": "52f47d2b",
   "metadata": {},
   "outputs": [],
   "source": [
    "from sklearn.preprocessing import StandardScaler\n",
    "from sklearn.pipeline import Pipeline\n",
    "sc = StandardScaler()"
   ]
  },
  {
   "cell_type": "code",
   "execution_count": 21,
   "id": "c3a48911",
   "metadata": {},
   "outputs": [],
   "source": [
    "pipe = Pipeline([('scaler', sc)])"
   ]
  },
  {
   "cell_type": "code",
   "execution_count": 22,
   "id": "8a13069e",
   "metadata": {},
   "outputs": [
    {
     "data": {
      "text/plain": [
       "array([[ 1.68684634,  0.83629557, -0.28628153, ...,  1.49528481,\n",
       "         1.10822809, -0.28034259],\n",
       "       [-1.74905365, -1.32173289, -1.7758802 , ...,  1.49528481,\n",
       "         1.10822809, -0.28034259],\n",
       "       [ 1.22432134,  0.11695275,  0.45851781, ..., -0.66876891,\n",
       "        -0.90234132, -0.28034259],\n",
       "       ...,\n",
       "       [ 1.62077134, -1.32173289, -1.7758802 , ...,  1.49528481,\n",
       "         1.10822809, -0.28034259],\n",
       "       [-1.15437866,  0.11695275, -0.28628153, ...,  1.49528481,\n",
       "         1.10822809, -0.28034259],\n",
       "       [ 0.56357134,  1.55563839, -1.7758802 , ..., -0.66876891,\n",
       "         1.10822809, -0.28034259]])"
      ]
     },
     "execution_count": 22,
     "metadata": {},
     "output_type": "execute_result"
    }
   ],
   "source": [
    "training_features_n = pipe.fit_transform(training_features)\n",
    "test_features_n = pipe.transform(test_features)\n",
    "training_features_n"
   ]
  },
  {
   "cell_type": "code",
   "execution_count": 23,
   "id": "81b4a4b1",
   "metadata": {},
   "outputs": [],
   "source": [
    "training_features_train, training_features_valid = training_features_n[:700], training_features_n[700:]\n",
    "training_target_train, training_target_valid = training_target[:700], training_target[700:]"
   ]
  },
  {
   "cell_type": "code",
   "execution_count": 24,
   "id": "be6d5d54",
   "metadata": {},
   "outputs": [
    {
     "data": {
      "text/plain": [
       "(103904, 14)"
      ]
     },
     "execution_count": 24,
     "metadata": {},
     "output_type": "execute_result"
    }
   ],
   "source": [
    "training_features.shape"
   ]
  },
  {
   "cell_type": "markdown",
   "id": "47347a99",
   "metadata": {},
   "source": [
    "## Deep Learning Model (ANN)"
   ]
  },
  {
   "cell_type": "code",
   "execution_count": 26,
   "id": "c283f5d5",
   "metadata": {},
   "outputs": [],
   "source": [
    "from tensorflow.keras.models import Sequential\n",
    "from tensorflow.keras.layers import Dense, Activation\n",
    "from sklearn.model_selection import train_test_split\n",
    "from tensorflow.keras.callbacks import EarlyStopping\n",
    "import pandas as pd\n",
    "import io\n",
    "import os \n",
    "import requests\n",
    "\n",
    "from sklearn import metrics"
   ]
  },
  {
   "cell_type": "code",
   "execution_count": 28,
   "id": "f6f5d51d",
   "metadata": {},
   "outputs": [
    {
     "name": "stdout",
     "output_type": "stream",
     "text": [
      "Tensorflow version:2.12.0\n"
     ]
    }
   ],
   "source": [
    "import tensorflow as tf\n",
    "print(\"Tensorflow version:\" + tf.__version__)"
   ]
  },
  {
   "cell_type": "code",
   "execution_count": 35,
   "id": "2b70a2b2",
   "metadata": {},
   "outputs": [],
   "source": [
    "classifier = tf.keras.Sequential()\n",
    "\n",
    "classifier.add(tf.keras.layers.Dense(155, activation='relu', kernel_initializer='uniform', input_dim=14))\n",
    "\n",
    "classifier.add(tf.keras.layers.Dense(55, activation='relu', kernel_initializer='uniform'))\n",
    "\n",
    "classifier.add(tf.keras.layers.Dense(1, activation = 'sigmoid', kernel_initializer='uniform'))\n",
    "\n",
    "classifier.add(tf.keras.layers.Dropout(0.2))\n",
    "\n",
    "model = classifier.compile(optimizer = 'adam', loss = 'binary_crossentropy', metrics = ['accuracy'])"
   ]
  },
  {
   "cell_type": "code",
   "execution_count": 36,
   "id": "8070ddd8",
   "metadata": {},
   "outputs": [],
   "source": [
    "monitor = EarlyStopping(monitor = 'val_loss', min_delta=0.0001, patience=5, mode='auto')"
   ]
  },
  {
   "cell_type": "code",
   "execution_count": 37,
   "id": "937b4e53",
   "metadata": {},
   "outputs": [
    {
     "data": {
      "text/plain": [
       "21413    1\n",
       "7284     0\n",
       "86080    0\n",
       "59842    0\n",
       "69486    0\n",
       "        ..\n",
       "12960    0\n",
       "77076    0\n",
       "35441    0\n",
       "55297    0\n",
       "33475    1\n",
       "Name: satisfaction, Length: 700, dtype: int64"
      ]
     },
     "execution_count": 37,
     "metadata": {},
     "output_type": "execute_result"
    }
   ],
   "source": [
    "training_target_train"
   ]
  },
  {
   "cell_type": "code",
   "execution_count": 38,
   "id": "031eb11c",
   "metadata": {},
   "outputs": [
    {
     "data": {
      "text/plain": [
       "(700, 14)"
      ]
     },
     "execution_count": 38,
     "metadata": {},
     "output_type": "execute_result"
    }
   ],
   "source": [
    "training_features_train.shape"
   ]
  },
  {
   "cell_type": "code",
   "execution_count": 39,
   "id": "7093ec2c",
   "metadata": {},
   "outputs": [
    {
     "name": "stdout",
     "output_type": "stream",
     "text": [
      "Epoch 1/20\n",
      "28/28 [==============================] - 12s 363ms/step - loss: 2.0424 - accuracy: 0.5443 - val_loss: 0.6290 - val_accuracy: 0.8027\n",
      "Epoch 2/20\n",
      "28/28 [==============================] - 11s 395ms/step - loss: 2.0562 - accuracy: 0.7043 - val_loss: 0.4453 - val_accuracy: 0.8301\n",
      "Epoch 3/20\n",
      "28/28 [==============================] - 10s 352ms/step - loss: 1.8670 - accuracy: 0.7614 - val_loss: 0.4348 - val_accuracy: 0.8360\n",
      "Epoch 4/20\n",
      "28/28 [==============================] - 10s 357ms/step - loss: 1.8709 - accuracy: 0.7657 - val_loss: 0.4108 - val_accuracy: 0.8431\n",
      "Epoch 5/20\n",
      "28/28 [==============================] - 11s 410ms/step - loss: 1.8448 - accuracy: 0.7771 - val_loss: 0.4227 - val_accuracy: 0.8426\n",
      "Epoch 6/20\n",
      "28/28 [==============================] - 11s 421ms/step - loss: 1.9539 - accuracy: 0.7714 - val_loss: 0.3982 - val_accuracy: 0.8492\n",
      "Epoch 7/20\n",
      "28/28 [==============================] - 12s 432ms/step - loss: 2.0084 - accuracy: 0.7757 - val_loss: 0.3975 - val_accuracy: 0.8438\n",
      "Epoch 8/20\n",
      "28/28 [==============================] - 11s 412ms/step - loss: 2.0862 - accuracy: 0.7857 - val_loss: 0.3738 - val_accuracy: 0.8553\n",
      "Epoch 9/20\n",
      "28/28 [==============================] - 11s 425ms/step - loss: 2.0097 - accuracy: 0.7886 - val_loss: 0.3606 - val_accuracy: 0.8606\n",
      "Epoch 10/20\n",
      "28/28 [==============================] - 13s 474ms/step - loss: 2.0016 - accuracy: 0.7914 - val_loss: 0.3554 - val_accuracy: 0.8626\n",
      "Epoch 11/20\n",
      "28/28 [==============================] - 11s 392ms/step - loss: 1.8696 - accuracy: 0.8071 - val_loss: 0.3528 - val_accuracy: 0.8617\n",
      "Epoch 12/20\n",
      "28/28 [==============================] - 10s 353ms/step - loss: 1.8353 - accuracy: 0.8057 - val_loss: 0.3512 - val_accuracy: 0.8639\n",
      "Epoch 13/20\n",
      "28/28 [==============================] - 9s 337ms/step - loss: 1.9898 - accuracy: 0.8100 - val_loss: 0.3333 - val_accuracy: 0.8733\n",
      "Epoch 14/20\n",
      "28/28 [==============================] - 10s 361ms/step - loss: 1.5903 - accuracy: 0.8314 - val_loss: 0.3206 - val_accuracy: 0.8756\n",
      "Epoch 15/20\n",
      "28/28 [==============================] - 9s 345ms/step - loss: 2.0492 - accuracy: 0.8000 - val_loss: 0.3161 - val_accuracy: 0.8766\n",
      "Epoch 16/20\n",
      "28/28 [==============================] - 9s 344ms/step - loss: 1.9893 - accuracy: 0.8143 - val_loss: 0.3049 - val_accuracy: 0.8790\n",
      "Epoch 17/20\n",
      "28/28 [==============================] - 9s 346ms/step - loss: 1.8352 - accuracy: 0.8200 - val_loss: 0.3207 - val_accuracy: 0.8722\n",
      "Epoch 18/20\n",
      "28/28 [==============================] - 9s 337ms/step - loss: 1.6758 - accuracy: 0.8300 - val_loss: 0.2966 - val_accuracy: 0.8830\n",
      "Epoch 19/20\n",
      "28/28 [==============================] - 10s 358ms/step - loss: 1.9767 - accuracy: 0.8214 - val_loss: 0.3083 - val_accuracy: 0.8775\n",
      "Epoch 20/20\n",
      "28/28 [==============================] - 9s 334ms/step - loss: 1.9193 - accuracy: 0.8271 - val_loss: 0.2926 - val_accuracy: 0.8827\n",
      "3226/3226 [==============================] - 10s 3ms/step - loss: 0.2926 - accuracy: 0.8827\n",
      "\n",
      "accuracy: 88.27%\n"
     ]
    }
   ],
   "source": [
    "model_history = classifier.fit(training_features_train, training_target_train,\n",
    "                              batch_size = 25, callbacks=[monitor],\n",
    "                              epochs = 20,\n",
    "                              validation_data = (training_features_valid, training_target_valid))\n",
    "\n",
    "score = classifier.evaluate(training_features_valid, training_target_valid)\n",
    "print(\"\\n%s: %.2f%%\" % (classifier.metrics_names[1], score[1]*100))"
   ]
  },
  {
   "cell_type": "code",
   "execution_count": 40,
   "id": "07fc6163",
   "metadata": {},
   "outputs": [
    {
     "data": {
      "text/plain": [
       "(25976, 14)"
      ]
     },
     "execution_count": 40,
     "metadata": {},
     "output_type": "execute_result"
    }
   ],
   "source": [
    "test_features.shape"
   ]
  },
  {
   "cell_type": "code",
   "execution_count": 41,
   "id": "2a4d14bc",
   "metadata": {},
   "outputs": [
    {
     "data": {
      "text/plain": [
       "array([[ 1.29039634,  0.83629557,  0.45851781, ..., -0.66876891,\n",
       "        -0.90234132, -0.28034259],\n",
       "       [-1.15437866, -1.32173289, -1.7758802 , ..., -0.66876891,\n",
       "         1.10822809, -0.28034259],\n",
       "       [ 1.02609634, -2.04107571,  1.20331714, ..., -0.66876891,\n",
       "        -0.90234132, -0.28034259],\n",
       "       ...,\n",
       "       [-0.16325366,  0.83629557,  0.45851781, ..., -0.66876891,\n",
       "         1.10822809, -0.28034259],\n",
       "       [-1.15437866,  0.11695275, -0.28628153, ..., -0.66876891,\n",
       "        -0.90234132, -0.28034259],\n",
       "       [-1.15437866,  1.55563839,  1.20331714, ..., -0.66876891,\n",
       "        -0.90234132, -0.28034259]])"
      ]
     },
     "execution_count": 41,
     "metadata": {},
     "output_type": "execute_result"
    }
   ],
   "source": [
    "test_features_n"
   ]
  },
  {
   "cell_type": "code",
   "execution_count": 42,
   "id": "93546bcb",
   "metadata": {},
   "outputs": [
    {
     "name": "stdout",
     "output_type": "stream",
     "text": [
      "812/812 [==============================] - 2s 3ms/step\n",
      "CPU times: total: 4.06 s\n",
      "Wall time: 3.93 s\n"
     ]
    }
   ],
   "source": [
    "%%time\n",
    "\n",
    "from sklearn.metrics import accuracy_score\n",
    "\n",
    "ANN_pred = classifier.predict(test_features_n)\n",
    "\n",
    "ANN_pred = (ANN_pred > 0.5)"
   ]
  },
  {
   "cell_type": "code",
   "execution_count": 43,
   "id": "05a96148",
   "metadata": {},
   "outputs": [
    {
     "data": {
      "text/plain": [
       "0.8833538651062519"
      ]
     },
     "execution_count": 43,
     "metadata": {},
     "output_type": "execute_result"
    }
   ],
   "source": [
    "ACANN = accuracy_score(test_target, ANN_pred)\n",
    "ACANN"
   ]
  },
  {
   "cell_type": "code",
   "execution_count": 44,
   "id": "b1916f94",
   "metadata": {},
   "outputs": [
    {
     "name": "stdout",
     "output_type": "stream",
     "text": [
      "Model: \"sequential_1\"\n",
      "_________________________________________________________________\n",
      " Layer (type)                Output Shape              Param #   \n",
      "=================================================================\n",
      " dense_3 (Dense)             (None, 155)               2325      \n",
      "                                                                 \n",
      " dense_4 (Dense)             (None, 55)                8580      \n",
      "                                                                 \n",
      " dense_5 (Dense)             (None, 1)                 56        \n",
      "                                                                 \n",
      " dropout_1 (Dropout)         (None, 1)                 0         \n",
      "                                                                 \n",
      "=================================================================\n",
      "Total params: 10,961\n",
      "Trainable params: 10,961\n",
      "Non-trainable params: 0\n",
      "_________________________________________________________________\n",
      "None\n"
     ]
    }
   ],
   "source": [
    "print(classifier.summary())"
   ]
  },
  {
   "cell_type": "code",
   "execution_count": 45,
   "id": "c7b856dd",
   "metadata": {},
   "outputs": [
    {
     "data": {
      "image/png": "[encoded data removed]",
      "text/plain": [
       "<Figure size 1200x600 with 1 Axes>"
      ]
     },
     "metadata": {},
     "output_type": "display_data"
    }
   ],
   "source": [
    "import pandas as pd\n",
    "pd.DataFrame(model_history.history).plot(figsize=(12,6))\n",
    "plt.grid(True)\n",
    "plt.gca().set_ylim(0, 1.5)\n",
    "plt.show()"
   ]
  },
  {
   "cell_type": "markdown",
   "id": "1010c21f",
   "metadata": {},
   "source": [
    "## Save the model"
   ]
  },
  {
   "cell_type": "code",
   "execution_count": 48,
   "id": "0d4a2d54",
   "metadata": {},
   "outputs": [],
   "source": [
    "os.chdir(r'C:\\Users\\NTECH\\Desktop\\hana\\Memo')"
   ]
  },
  {
   "cell_type": "code",
   "execution_count": 49,
   "id": "83d8be2d",
   "metadata": {},
   "outputs": [
    {
     "data": {
      "text/plain": [
       "'C:\\\\Users\\\\NTECH\\\\Desktop\\\\hana\\\\Memo'"
      ]
     },
     "execution_count": 49,
     "metadata": {},
     "output_type": "execute_result"
    }
   ],
   "source": [
    "os.getcwd()"
   ]
  },
  {
   "cell_type": "code",
   "execution_count": 50,
   "id": "081d207b",
   "metadata": {},
   "outputs": [],
   "source": [
    "classifier.save(os.path.join(os.getcwd(), 'AI_ANNModel.h5'))\n"
   ]
  },
  {
   "cell_type": "code",
   "execution_count": 53,
   "id": "759ed1c2",
   "metadata": {},
   "outputs": [
    {
     "data": {
      "text/plain": [
       "['satisfaction',\n",
       " 'age',\n",
       " 'seat_comfort',\n",
       " 'inflight_entertainment',\n",
       " 'on_board_service',\n",
       " 'leg_room_service',\n",
       " 'baggage_handling',\n",
       " 'checkin_service',\n",
       " 'cleanliness',\n",
       " 'online_boarding',\n",
       " 'gender_male',\n",
       " 'customer_type_disloyal_customer',\n",
       " 'type_of_travel_personal_travel',\n",
       " 'class_eco',\n",
       " 'class_eco_plus']"
      ]
     },
     "execution_count": 53,
     "metadata": {},
     "output_type": "execute_result"
    }
   ],
   "source": [
    "cols = [X for X in Invistico_Airline.columns if X not in('Invistico_Airline','name')]\n",
    "cols\n"
   ]
  },
  {
   "cell_type": "code",
   "execution_count": null,
   "id": "9df6c850",
   "metadata": {},
   "outputs": [],
   "source": []
  }
 ],
 "metadata": {
  "kernelspec": {
   "display_name": "Python 3 (ipykernel)",
   "language": "python",
   "name": "python3"
  },
  "language_info": {
   "codemirror_mode": {
    "name": "ipython",
    "version": 3
   },
   "file_extension": ".py",
   "mimetype": "text/x-python",
   "name": "python",
   "nbconvert_exporter": "python",
   "pygments_lexer": "ipython3",
   "version": "3.10.9"
  }
 },
 "nbformat": 4,
 "nbformat_minor": 5
}
